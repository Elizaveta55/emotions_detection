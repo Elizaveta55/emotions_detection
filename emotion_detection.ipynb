{
  "nbformat": 4,
  "nbformat_minor": 0,
  "metadata": {
    "colab": {
      "name": "emotion_detection.ipynb",
      "provenance": []
    },
    "kernelspec": {
      "name": "python3",
      "display_name": "Python 3"
    },
    "language_info": {
      "name": "python"
    }
  },
  "cells": [
    {
      "cell_type": "code",
      "execution_count": null,
      "metadata": {
        "id": "wPE5nr9yBTKX"
      },
      "outputs": [],
      "source": [
        "!pip install fastapi transformers"
      ]
    },
    {
      "cell_type": "code",
      "source": [
        "from typing import Optional\n",
        "from fastapi import FastAPI, File\n",
        "from pydantic import BaseModel\n",
        "import time\n",
        "import torch\n",
        "from transformers import pipeline\n",
        "\n",
        "classifier = pipeline(\"text-classification\",model='bhadresh-savani/distilbert-base-uncased-emotion', return_all_scores=True)"
      ],
      "metadata": {
        "id": "ARm9FOkeBUP2"
      },
      "execution_count": null,
      "outputs": []
    },
    {
      "cell_type": "code",
      "source": [
        "class Text(BaseModel):\n",
        "    text: str\n",
        "\n",
        "app = FastAPI()\n",
        "\n",
        "time_dict = {}"
      ],
      "metadata": {
        "id": "fYS6FaUm6e5b"
      },
      "execution_count": null,
      "outputs": []
    },
    {
      "cell_type": "code",
      "source": [
        "@app.get('/')\n",
        "def index():\n",
        "  return {'message': 'This is the homepage of the API. Send POST Request to /get_emotion to obtain an emotion label from text. \\\n",
        "  It will return a list with labels from the the most probable emotion prediction to the least probable emotion prediction'}\n",
        "\n",
        "@app.post(\"/get_emotion\")\n",
        "def emotional_recognition(text: Text):\n",
        "  time_start_similarity = time.time()  \n",
        "\n",
        "  id = \"some id\"\n",
        "\n",
        "  prediction = classifier(text.text, )\n",
        "\n",
        "  time_dict[id] = time.time() - time_start_similarity\n",
        "  \n",
        "  prediction_dict = sorted(prediction[0], key=lambda item: item['score'], reverse=True)\n",
        "\n",
        "  return [x['label'] for x in prediction_dict]"
      ],
      "metadata": {
        "id": "dgoelQ5c6mE_"
      },
      "execution_count": null,
      "outputs": []
    },
    {
      "cell_type": "code",
      "source": [
        "## FOR TESTING THE MODEL\n",
        "\n",
        "test = Text(text = \"I am always seeing this, what a fool\")\n",
        "print(emotional_recognition(test))"
      ],
      "metadata": {
        "colab": {
          "base_uri": "https://localhost:8080/"
        },
        "id": "kNPag297AjnI",
        "outputId": "9b595b4a-0b9e-4173-f3aa-6abec1478ec6"
      },
      "execution_count": null,
      "outputs": [
        {
          "output_type": "stream",
          "name": "stdout",
          "text": [
            "['anger', 'sadness', 'joy', 'fear', 'love', 'surprise']\n"
          ]
        }
      ]
    },
    {
      "cell_type": "code",
      "source": [
        "test = Text(text = \"I am always seeing this\")\n",
        "print(emotional_recognition(test))"
      ],
      "metadata": {
        "colab": {
          "base_uri": "https://localhost:8080/"
        },
        "id": "-6U9c_SccYZe",
        "outputId": "02ef0a85-1138-4bb5-cb78-2e350a5a8a18"
      },
      "execution_count": null,
      "outputs": [
        {
          "output_type": "stream",
          "name": "stdout",
          "text": [
            "['joy', 'sadness', 'anger', 'love', 'fear', 'surprise']\n"
          ]
        }
      ]
    },
    {
      "cell_type": "code",
      "source": [
        "test = Text(text = \"What a lovely bastard\")\n",
        "print(emotional_recognition(test))"
      ],
      "metadata": {
        "colab": {
          "base_uri": "https://localhost:8080/"
        },
        "id": "NHEEZva2caLI",
        "outputId": "c71a8259-57fd-466e-816c-e9aad35b5093"
      },
      "execution_count": null,
      "outputs": [
        {
          "output_type": "stream",
          "name": "stdout",
          "text": [
            "['love', 'joy', 'surprise', 'sadness', 'anger', 'fear']\n"
          ]
        }
      ]
    },
    {
      "cell_type": "code",
      "source": [
        "test = Text(text = \"An American or British person might be looking their client in the eye to show that they are paying full attention to what is being said, but if that client is from Japan or Korea, they might find the direct eye contact awkward or even disrespectful. In parts of South America and Africa, prolonged eye contact could also be seen as challenging authority. In the Middle East, eye contact across genders is considered inappropriate, although eye contact within a gender could signify honesty and truthfulness. Having an increased awareness of the possible differences in expectations and behaviour can help us avoid cases of miscommunication, but it is vital that we also remember that cultural stereotypes can be detrimental to building good business relationships. Although national cultures could play a part in shaping the way we behave and think, we are also largely influenced by the region we come from, the communities we associate with, our age and gender, our corporate culture and our individual experiences of the world. The knowledge of the potential differences should therefore be something we keep at the back of our minds, rather than something that we use to pigeonhole the individuals of an entire nation.\")\n",
        "print(emotional_recognition(test))"
      ],
      "metadata": {
        "colab": {
          "base_uri": "https://localhost:8080/"
        },
        "id": "_7qLTuhcchST",
        "outputId": "5fe834c4-8f14-4c46-8804-eb3c2f9fcd18"
      },
      "execution_count": null,
      "outputs": [
        {
          "output_type": "stream",
          "name": "stdout",
          "text": [
            "['anger', 'sadness', 'fear', 'joy', 'love', 'surprise']\n"
          ]
        }
      ]
    }
  ]
}